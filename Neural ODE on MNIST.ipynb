{
 "cells": [
  {
   "cell_type": "code",
   "execution_count": 1,
   "id": "1461a2c5-7f1e-43c2-8e4a-075e816138fc",
   "metadata": {},
   "outputs": [],
   "source": [
    "import torch\n",
    "import torch.nn as nn\n",
    "import torch.optim as optim\n",
    "from torch.utils.data import DataLoader\n",
    "import torchvision.datasets as datasets\n",
    "import torchvision.transforms as transforms\n",
    "from torchdiffeq import odeint_adjoint as odeint "
   ]
  },
  {
   "cell_type": "code",
   "execution_count": 2,
   "id": "24df1ecb-8a9f-4d69-b497-062639abb472",
   "metadata": {},
   "outputs": [],
   "source": [
    "class ODEFunc(nn.Module):\n",
    "    def __init__(self, dim):\n",
    "        super(ODEFunc, self).__init__()\n",
    "        self.net = nn.Sequential(\n",
    "            nn.Linear(dim, 50),\n",
    "            nn.ReLU(),\n",
    "            nn.Linear(50, dim)\n",
    "        )\n",
    "        self.nfe = 0  # optional counter for function evaluations\n",
    "\n",
    "    def forward(self, t, h):\n",
    "        self.nfe += 1\n",
    "        return self.net(h)"
   ]
  },
  {
   "cell_type": "code",
   "execution_count": 3,
   "id": "aaaf073e-8400-4b42-876e-781b97594c28",
   "metadata": {},
   "outputs": [],
   "source": [
    "class ODEBlock(nn.Module):\n",
    "    def __init__(self, odefunc, integration_time=torch.tensor([0.0, 1.0])):\n",
    "        super(ODEBlock, self).__init__()\n",
    "        self.odefunc = odefunc\n",
    "        self.integration_time = integration_time\n",
    "\n",
    "    def forward(self, h0):\n",
    "        # Ensure the integration time tensor is of the same type as h0.\n",
    "        t = self.integration_time.type_as(h0)\n",
    "        # Solve the ODE and use the final state as the block output.\n",
    "        h_T = odeint(self.odefunc, h0, t)[-1]\n",
    "        return h_T"
   ]
  },
  {
   "cell_type": "code",
   "execution_count": 4,
   "id": "282c5549-9135-4125-9256-c696d9e077f4",
   "metadata": {},
   "outputs": [],
   "source": [
    "class NeuralODE(nn.Module):\n",
    "    def __init__(self, input_dim, hidden_dim, num_classes):\n",
    "        super(NeuralODE, self).__init__()\n",
    "        self.fc_in = nn.Linear(input_dim, hidden_dim)\n",
    "        self.relu = nn.ReLU()\n",
    "        self.odeblock = ODEBlock(ODEFunc(hidden_dim))\n",
    "        self.fc_out = nn.Linear(hidden_dim, num_classes)\n",
    "    \n",
    "    def forward(self, x):\n",
    "        h0 = self.relu(self.fc_in(x))\n",
    "        h_T = self.odeblock(h0)\n",
    "        out = self.fc_out(h_T)\n",
    "        return out"
   ]
  },
  {
   "cell_type": "code",
   "execution_count": 5,
   "id": "8996c50b-7b0b-485e-91df-7ee2ebd0326c",
   "metadata": {},
   "outputs": [
    {
     "name": "stderr",
     "output_type": "stream",
     "text": [
      "100%|████████████████████████████████████████████████████████████████████████████████████████████████████████████████████████████████████████████████████████████████████████████| 9.91M/9.91M [00:01<00:00, 9.75MB/s]\n",
      "100%|█████████████████████████████████████████████████████████████████████████████████████████████████████████████████████████████████████████████████████████████████████████████| 28.9k/28.9k [00:00<00:00, 368kB/s]\n",
      "100%|████████████████████████████████████████████████████████████████████████████████████████████████████████████████████████████████████████████████████████████████████████████| 1.65M/1.65M [00:00<00:00, 3.30MB/s]\n",
      "100%|████████████████████████████████████████████████████████████████████████████████████████████████████████████████████████████████████████████████████████████████████████████| 4.54k/4.54k [00:00<00:00, 1.05MB/s]\n"
     ]
    }
   ],
   "source": [
    "device = torch.device(\"cuda\" if torch.cuda.is_available() else \"cpu\")\n",
    "\n",
    "# Define transform to convert MNIST images to flattened vectors.\n",
    "transform = transforms.Compose([\n",
    "    transforms.ToTensor(),\n",
    "    transforms.Lambda(lambda x: x.view(-1))  # flatten the 28x28 image into a 784-dim vector\n",
    "])\n",
    "\n",
    "# Load the MNIST dataset.\n",
    "train_dataset = datasets.MNIST(root='./data', train=True, download=True, transform=transform)\n",
    "test_dataset  = datasets.MNIST(root='./data', train=False, download=True, transform=transform)\n",
    "train_loader = DataLoader(train_dataset, batch_size=128, shuffle=True)\n",
    "test_loader  = DataLoader(test_dataset, batch_size=128, shuffle=False)\n",
    "\n",
    "# Instantiate the model.\n",
    "model = NeuralODE(input_dim=784, hidden_dim=64, num_classes=10).to(device)\n",
    "optimizer = optim.Adam(model.parameters(), lr=1e-3)\n",
    "criterion = nn.CrossEntropyLoss()"
   ]
  },
  {
   "cell_type": "code",
   "execution_count": 6,
   "id": "a6547883-39ca-4f0d-b69d-a016d9b93a1b",
   "metadata": {},
   "outputs": [
    {
     "name": "stdout",
     "output_type": "stream",
     "text": [
      "Epoch 1/5, Loss: 0.3991\n",
      "Test Accuracy: 94.12%\n",
      "Epoch 2/5, Loss: 0.1615\n",
      "Test Accuracy: 95.57%\n",
      "Epoch 3/5, Loss: 0.1163\n",
      "Test Accuracy: 96.53%\n",
      "Epoch 4/5, Loss: 0.0933\n",
      "Test Accuracy: 97.04%\n",
      "Epoch 5/5, Loss: 0.0752\n",
      "Test Accuracy: 96.50%\n"
     ]
    }
   ],
   "source": [
    "epochs = 5\n",
    "for epoch in range(epochs):\n",
    "    model.train()\n",
    "    total_loss = 0.0\n",
    "    for batch_idx, (data, target) in enumerate(train_loader):\n",
    "        data, target = data.to(device), target.to(device)\n",
    "        optimizer.zero_grad()\n",
    "        output = model(data)\n",
    "        loss = criterion(output, target)\n",
    "        loss.backward()\n",
    "        optimizer.step()\n",
    "        total_loss += loss.item()\n",
    "    \n",
    "    avg_loss = total_loss / len(train_loader)\n",
    "    print(f\"Epoch {epoch+1}/{epochs}, Loss: {avg_loss:.4f}\")\n",
    "\n",
    "    # Evaluate accuracy on the test set.\n",
    "    model.eval()\n",
    "    correct = 0\n",
    "    total = 0\n",
    "    with torch.no_grad():\n",
    "        for data, target in test_loader:\n",
    "            data, target = data.to(device), target.to(device)\n",
    "            output = model(data)\n",
    "            preds = output.argmax(dim=1)\n",
    "            correct += (preds == target).sum().item()\n",
    "            total += target.size(0)\n",
    "    accuracy = correct / total\n",
    "    print(f\"Test Accuracy: {accuracy * 100:.2f}%\")"
   ]
  }
 ],
 "metadata": {
  "kernelspec": {
   "display_name": "Python 3 (ipykernel)",
   "language": "python",
   "name": "python3"
  },
  "language_info": {
   "codemirror_mode": {
    "name": "ipython",
    "version": 3
   },
   "file_extension": ".py",
   "mimetype": "text/x-python",
   "name": "python",
   "nbconvert_exporter": "python",
   "pygments_lexer": "ipython3",
   "version": "3.10.12"
  }
 },
 "nbformat": 4,
 "nbformat_minor": 5
}
