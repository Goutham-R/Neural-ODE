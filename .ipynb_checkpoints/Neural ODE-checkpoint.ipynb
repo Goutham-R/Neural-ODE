{
 "cells": [
  {
   "cell_type": "code",
   "execution_count": 4,
   "id": "653cce68-1555-49fe-812f-4782456b7292",
   "metadata": {},
   "outputs": [],
   "source": [
    "import torch \n",
    "import torch.nn as nn \n",
    "import torch.optim as optim \n",
    "from torchdiffeq import odeint_adjoint as odeint"
   ]
  },
  {
   "cell_type": "code",
   "execution_count": 11,
   "id": "4241bb27-5011-477a-9d9e-c18f4b5f075d",
   "metadata": {},
   "outputs": [],
   "source": [
    "class ODEFunc(nn.Module): \n",
    "    def __init__(self, dim): \n",
    "        super(ODEFunc, self).__init__() \n",
    "        self.net = nn.Sequential(nn.Linear(dim, 50), nn.ReLU(), nn.Linear(50, dim)) \n",
    "        self.nfe = 0 # optional counter for function evaluations\n",
    "    def forward(self, t, h):\n",
    "        self.nfe += 1\n",
    "        return self.net(h)"
   ]
  },
  {
   "cell_type": "code",
   "execution_count": 12,
   "id": "7c7477de-d516-4f0b-b447-04e222968cb4",
   "metadata": {},
   "outputs": [],
   "source": [
    "class ODEBlock(nn.Module): \n",
    "    def __init__(self, odefunc, integration_time=torch.tensor([0.0, 1.0])): \n",
    "        super(ODEBlock, self).__init__() \n",
    "        self.odefunc = odefunc \n",
    "        self.integration_time = integration_time\n",
    "    def forward(self, h0):\n",
    "        # Ensure integration times match the data type of h0\n",
    "        t = self.integration_time.type_as(h0)\n",
    "        # odeint returns the solution at all time points; we use the final state.\n",
    "        h_T = odeint(self.odefunc, h0, t)[-1]\n",
    "        return h_T"
   ]
  },
  {
   "cell_type": "code",
   "execution_count": 13,
   "id": "5583999c-8081-4a6f-90f4-2b8bfbd86d8a",
   "metadata": {},
   "outputs": [],
   "source": [
    "class NeuralODE(nn.Module): \n",
    "    def __init__(self, input_dim, hidden_dim, num_classes): \n",
    "        super(NeuralODE, self).__init__() \n",
    "        self.fc_in = nn.Linear(input_dim, hidden_dim) \n",
    "        self.relu = nn.ReLU() \n",
    "        self.odeblock = ODEBlock(ODEFunc(hidden_dim)) \n",
    "        self.fc_out = nn.Linear(hidden_dim, num_classes)\n",
    "    def forward(self, x):\n",
    "        # Map input to hidden state\n",
    "        h0 = self.relu(self.fc_in(x))\n",
    "        # Evolve the hidden state over time using the ODE solver (with adjoint backprop)\n",
    "        h_T = self.odeblock(h0)\n",
    "        # Map final hidden state to output logits\n",
    "        out = self.fc_out(h_T)\n",
    "        return out"
   ]
  },
  {
   "cell_type": "code",
   "execution_count": 16,
   "id": "0ab229a1-352e-4248-8edb-f7f35bfb016f",
   "metadata": {},
   "outputs": [
    {
     "name": "stdout",
     "output_type": "stream",
     "text": [
      "Epoch 0, Loss: 0.6934\n",
      "Epoch 10, Loss: 0.6779\n",
      "Epoch 20, Loss: 0.6699\n",
      "Epoch 30, Loss: 0.6605\n",
      "Epoch 40, Loss: 0.6466\n",
      "Epoch 50, Loss: 0.6272\n",
      "Epoch 60, Loss: 0.6017\n",
      "Epoch 70, Loss: 0.5683\n",
      "Epoch 80, Loss: 0.5327\n",
      "Epoch 90, Loss: 0.4913\n"
     ]
    }
   ],
   "source": [
    "model = NeuralODE(2,32,2)\n",
    "optimizer = optim.Adam(model.parameters(), lr=1e-3)\n",
    "criterion = nn.CrossEntropyLoss()\n",
    "x = torch.randn(128, 2)\n",
    "y = torch.randint(0, 2, (128,)) \n",
    "# Simple training loop.\n",
    "for epoch in range(100):\n",
    "    optimizer.zero_grad()\n",
    "    pred = model(x)\n",
    "    loss = criterion(pred, y)\n",
    "    loss.backward()\n",
    "    optimizer.step()\n",
    "    if epoch % 10 == 0:\n",
    "        print(f\"Epoch {epoch}, Loss: {loss.item():.4f}\")\n"
   ]
  },
  {
   "cell_type": "code",
   "execution_count": 20,
   "id": "8368fe0f-1cef-4e5b-9800-84e77fb817de",
   "metadata": {},
   "outputs": [
    {
     "name": "stdout",
     "output_type": "stream",
     "text": [
      "Accuracy: 75.00%\n"
     ]
    }
   ],
   "source": [
    "model.eval()  # Set the model to evaluation mode\n",
    "with torch.no_grad():\n",
    "    pred = model(x)                      # Get the raw output from the model\n",
    "    predicted_labels = torch.argmax(pred, dim=1)  # Choose the class with highest logit\n",
    "    accuracy = (predicted_labels == y).float().mean().item()  # Calculate the fraction of correct predictions\n",
    "    print(\"Accuracy: {:.2f}%\".format(accuracy * 100))"
   ]
  },
  {
   "cell_type": "code",
   "execution_count": null,
   "id": "851a5fd5-991e-4504-9b50-9ba27ee1e1d7",
   "metadata": {},
   "outputs": [],
   "source": []
  }
 ],
 "metadata": {
  "kernelspec": {
   "display_name": "Python 3 (ipykernel)",
   "language": "python",
   "name": "python3"
  },
  "language_info": {
   "codemirror_mode": {
    "name": "ipython",
    "version": 3
   },
   "file_extension": ".py",
   "mimetype": "text/x-python",
   "name": "python",
   "nbconvert_exporter": "python",
   "pygments_lexer": "ipython3",
   "version": "3.10.12"
  }
 },
 "nbformat": 4,
 "nbformat_minor": 5
}
